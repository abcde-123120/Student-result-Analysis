{
 "cells": [
  {
   "cell_type": "markdown",
   "id": "4a2f5f8f-7c12-4842-9079-a0baf91a59bc",
   "metadata": {},
   "source": [
    "STUDENT RESULT DATA ANALYSIS\n"
   ]
  },
  {
   "cell_type": "code",
   "execution_count": 9,
   "id": "921df2e9-1e58-4380-9e8a-4d6a5eb2d684",
   "metadata": {},
   "outputs": [
    {
     "data": {
      "text/html": [
       "<div>\n",
       "<style scoped>\n",
       "    .dataframe tbody tr th:only-of-type {\n",
       "        vertical-align: middle;\n",
       "    }\n",
       "\n",
       "    .dataframe tbody tr th {\n",
       "        vertical-align: top;\n",
       "    }\n",
       "\n",
       "    .dataframe thead th {\n",
       "        text-align: right;\n",
       "    }\n",
       "</style>\n",
       "<table border=\"1\" class=\"dataframe\">\n",
       "  <thead>\n",
       "    <tr style=\"text-align: right;\">\n",
       "      <th></th>\n",
       "      <th>Unnamed: 0</th>\n",
       "      <th>Gender</th>\n",
       "      <th>EthnicGroup</th>\n",
       "      <th>ParentEduc</th>\n",
       "      <th>LunchType</th>\n",
       "      <th>TestPrep</th>\n",
       "      <th>ParentMaritalStatus</th>\n",
       "      <th>PracticeSport</th>\n",
       "      <th>IsFirstChild</th>\n",
       "      <th>NrSiblings</th>\n",
       "      <th>TransportMeans</th>\n",
       "      <th>WklyStudyHours</th>\n",
       "      <th>MathScore</th>\n",
       "      <th>ReadingScore</th>\n",
       "      <th>WritingScore</th>\n",
       "    </tr>\n",
       "  </thead>\n",
       "  <tbody>\n",
       "    <tr>\n",
       "      <th>0</th>\n",
       "      <td>0</td>\n",
       "      <td>female</td>\n",
       "      <td>NaN</td>\n",
       "      <td>bachelor's degree</td>\n",
       "      <td>standard</td>\n",
       "      <td>none</td>\n",
       "      <td>married</td>\n",
       "      <td>regularly</td>\n",
       "      <td>yes</td>\n",
       "      <td>3.0</td>\n",
       "      <td>school_bus</td>\n",
       "      <td>&lt; 5</td>\n",
       "      <td>71</td>\n",
       "      <td>71</td>\n",
       "      <td>74</td>\n",
       "    </tr>\n",
       "    <tr>\n",
       "      <th>1</th>\n",
       "      <td>1</td>\n",
       "      <td>female</td>\n",
       "      <td>group C</td>\n",
       "      <td>some college</td>\n",
       "      <td>standard</td>\n",
       "      <td>NaN</td>\n",
       "      <td>married</td>\n",
       "      <td>sometimes</td>\n",
       "      <td>yes</td>\n",
       "      <td>0.0</td>\n",
       "      <td>NaN</td>\n",
       "      <td>10-May</td>\n",
       "      <td>69</td>\n",
       "      <td>90</td>\n",
       "      <td>88</td>\n",
       "    </tr>\n",
       "    <tr>\n",
       "      <th>2</th>\n",
       "      <td>2</td>\n",
       "      <td>female</td>\n",
       "      <td>group B</td>\n",
       "      <td>master's degree</td>\n",
       "      <td>standard</td>\n",
       "      <td>none</td>\n",
       "      <td>single</td>\n",
       "      <td>sometimes</td>\n",
       "      <td>yes</td>\n",
       "      <td>4.0</td>\n",
       "      <td>school_bus</td>\n",
       "      <td>&lt; 5</td>\n",
       "      <td>87</td>\n",
       "      <td>93</td>\n",
       "      <td>91</td>\n",
       "    </tr>\n",
       "    <tr>\n",
       "      <th>3</th>\n",
       "      <td>3</td>\n",
       "      <td>male</td>\n",
       "      <td>group A</td>\n",
       "      <td>associate's degree</td>\n",
       "      <td>free/reduced</td>\n",
       "      <td>none</td>\n",
       "      <td>married</td>\n",
       "      <td>never</td>\n",
       "      <td>no</td>\n",
       "      <td>1.0</td>\n",
       "      <td>NaN</td>\n",
       "      <td>10-May</td>\n",
       "      <td>45</td>\n",
       "      <td>56</td>\n",
       "      <td>42</td>\n",
       "    </tr>\n",
       "    <tr>\n",
       "      <th>4</th>\n",
       "      <td>4</td>\n",
       "      <td>male</td>\n",
       "      <td>group C</td>\n",
       "      <td>some college</td>\n",
       "      <td>standard</td>\n",
       "      <td>none</td>\n",
       "      <td>married</td>\n",
       "      <td>sometimes</td>\n",
       "      <td>yes</td>\n",
       "      <td>0.0</td>\n",
       "      <td>school_bus</td>\n",
       "      <td>10-May</td>\n",
       "      <td>76</td>\n",
       "      <td>78</td>\n",
       "      <td>75</td>\n",
       "    </tr>\n",
       "    <tr>\n",
       "      <th>...</th>\n",
       "      <td>...</td>\n",
       "      <td>...</td>\n",
       "      <td>...</td>\n",
       "      <td>...</td>\n",
       "      <td>...</td>\n",
       "      <td>...</td>\n",
       "      <td>...</td>\n",
       "      <td>...</td>\n",
       "      <td>...</td>\n",
       "      <td>...</td>\n",
       "      <td>...</td>\n",
       "      <td>...</td>\n",
       "      <td>...</td>\n",
       "      <td>...</td>\n",
       "      <td>...</td>\n",
       "    </tr>\n",
       "    <tr>\n",
       "      <th>30636</th>\n",
       "      <td>816</td>\n",
       "      <td>female</td>\n",
       "      <td>group D</td>\n",
       "      <td>high school</td>\n",
       "      <td>standard</td>\n",
       "      <td>none</td>\n",
       "      <td>single</td>\n",
       "      <td>sometimes</td>\n",
       "      <td>no</td>\n",
       "      <td>2.0</td>\n",
       "      <td>school_bus</td>\n",
       "      <td>10-May</td>\n",
       "      <td>59</td>\n",
       "      <td>61</td>\n",
       "      <td>65</td>\n",
       "    </tr>\n",
       "    <tr>\n",
       "      <th>30637</th>\n",
       "      <td>890</td>\n",
       "      <td>male</td>\n",
       "      <td>group E</td>\n",
       "      <td>high school</td>\n",
       "      <td>standard</td>\n",
       "      <td>none</td>\n",
       "      <td>single</td>\n",
       "      <td>regularly</td>\n",
       "      <td>no</td>\n",
       "      <td>1.0</td>\n",
       "      <td>private</td>\n",
       "      <td>10-May</td>\n",
       "      <td>58</td>\n",
       "      <td>53</td>\n",
       "      <td>51</td>\n",
       "    </tr>\n",
       "    <tr>\n",
       "      <th>30638</th>\n",
       "      <td>911</td>\n",
       "      <td>female</td>\n",
       "      <td>NaN</td>\n",
       "      <td>high school</td>\n",
       "      <td>free/reduced</td>\n",
       "      <td>completed</td>\n",
       "      <td>married</td>\n",
       "      <td>sometimes</td>\n",
       "      <td>no</td>\n",
       "      <td>1.0</td>\n",
       "      <td>private</td>\n",
       "      <td>10-May</td>\n",
       "      <td>61</td>\n",
       "      <td>70</td>\n",
       "      <td>67</td>\n",
       "    </tr>\n",
       "    <tr>\n",
       "      <th>30639</th>\n",
       "      <td>934</td>\n",
       "      <td>female</td>\n",
       "      <td>group D</td>\n",
       "      <td>associate's degree</td>\n",
       "      <td>standard</td>\n",
       "      <td>completed</td>\n",
       "      <td>married</td>\n",
       "      <td>regularly</td>\n",
       "      <td>no</td>\n",
       "      <td>3.0</td>\n",
       "      <td>school_bus</td>\n",
       "      <td>10-May</td>\n",
       "      <td>82</td>\n",
       "      <td>90</td>\n",
       "      <td>93</td>\n",
       "    </tr>\n",
       "    <tr>\n",
       "      <th>30640</th>\n",
       "      <td>960</td>\n",
       "      <td>male</td>\n",
       "      <td>group B</td>\n",
       "      <td>some college</td>\n",
       "      <td>standard</td>\n",
       "      <td>none</td>\n",
       "      <td>married</td>\n",
       "      <td>never</td>\n",
       "      <td>no</td>\n",
       "      <td>1.0</td>\n",
       "      <td>school_bus</td>\n",
       "      <td>10-May</td>\n",
       "      <td>64</td>\n",
       "      <td>60</td>\n",
       "      <td>58</td>\n",
       "    </tr>\n",
       "  </tbody>\n",
       "</table>\n",
       "<p>30641 rows × 15 columns</p>\n",
       "</div>"
      ],
      "text/plain": [
       "       Unnamed: 0  Gender EthnicGroup          ParentEduc     LunchType  \\\n",
       "0               0  female         NaN   bachelor's degree      standard   \n",
       "1               1  female     group C        some college      standard   \n",
       "2               2  female     group B     master's degree      standard   \n",
       "3               3    male     group A  associate's degree  free/reduced   \n",
       "4               4    male     group C        some college      standard   \n",
       "...           ...     ...         ...                 ...           ...   \n",
       "30636         816  female     group D         high school      standard   \n",
       "30637         890    male     group E         high school      standard   \n",
       "30638         911  female         NaN         high school  free/reduced   \n",
       "30639         934  female     group D  associate's degree      standard   \n",
       "30640         960    male     group B        some college      standard   \n",
       "\n",
       "        TestPrep ParentMaritalStatus PracticeSport IsFirstChild  NrSiblings  \\\n",
       "0           none             married     regularly          yes         3.0   \n",
       "1            NaN             married     sometimes          yes         0.0   \n",
       "2           none              single     sometimes          yes         4.0   \n",
       "3           none             married         never           no         1.0   \n",
       "4           none             married     sometimes          yes         0.0   \n",
       "...          ...                 ...           ...          ...         ...   \n",
       "30636       none              single     sometimes           no         2.0   \n",
       "30637       none              single     regularly           no         1.0   \n",
       "30638  completed             married     sometimes           no         1.0   \n",
       "30639  completed             married     regularly           no         3.0   \n",
       "30640       none             married         never           no         1.0   \n",
       "\n",
       "      TransportMeans WklyStudyHours  MathScore  ReadingScore  WritingScore  \n",
       "0         school_bus            < 5         71            71            74  \n",
       "1                NaN         10-May         69            90            88  \n",
       "2         school_bus            < 5         87            93            91  \n",
       "3                NaN         10-May         45            56            42  \n",
       "4         school_bus         10-May         76            78            75  \n",
       "...              ...            ...        ...           ...           ...  \n",
       "30636     school_bus         10-May         59            61            65  \n",
       "30637        private         10-May         58            53            51  \n",
       "30638        private         10-May         61            70            67  \n",
       "30639     school_bus         10-May         82            90            93  \n",
       "30640     school_bus         10-May         64            60            58  \n",
       "\n",
       "[30641 rows x 15 columns]"
      ]
     },
     "execution_count": 9,
     "metadata": {},
     "output_type": "execute_result"
    }
   ],
   "source": [
    "import pandas as pd\n",
    "import numpy as np\n",
    "import matplotlib.pyplot as plt\n",
    "import seaborn as sns\n",
    "df = pd.read_csv(\"student result.csv\")\n",
    "df"
   ]
  },
  {
   "cell_type": "code",
   "execution_count": 10,
   "id": "7b31143e-09eb-4831-846e-cfc0606c95f4",
   "metadata": {},
   "outputs": [
    {
     "name": "stdout",
     "output_type": "stream",
     "text": [
      "   Unnamed: 0  Gender EthnicGroup          ParentEduc     LunchType TestPrep  \\\n",
      "0           0  female         NaN   bachelor's degree      standard     none   \n",
      "1           1  female     group C        some college      standard      NaN   \n",
      "2           2  female     group B     master's degree      standard     none   \n",
      "3           3    male     group A  associate's degree  free/reduced     none   \n",
      "4           4    male     group C        some college      standard     none   \n",
      "\n",
      "  ParentMaritalStatus PracticeSport IsFirstChild  NrSiblings TransportMeans  \\\n",
      "0             married     regularly          yes         3.0     school_bus   \n",
      "1             married     sometimes          yes         0.0            NaN   \n",
      "2              single     sometimes          yes         4.0     school_bus   \n",
      "3             married         never           no         1.0            NaN   \n",
      "4             married     sometimes          yes         0.0     school_bus   \n",
      "\n",
      "  WklyStudyHours  MathScore  ReadingScore  WritingScore  \n",
      "0            < 5         71            71            74  \n",
      "1         10-May         69            90            88  \n",
      "2            < 5         87            93            91  \n",
      "3         10-May         45            56            42  \n",
      "4         10-May         76            78            75  \n"
     ]
    }
   ],
   "source": [
    "print(df.head())"
   ]
  },
  {
   "cell_type": "code",
   "execution_count": 4,
   "id": "70e07ce5-602c-406b-be73-8ea9b3e4ab39",
   "metadata": {},
   "outputs": [
    {
     "data": {
      "text/html": [
       "<div>\n",
       "<style scoped>\n",
       "    .dataframe tbody tr th:only-of-type {\n",
       "        vertical-align: middle;\n",
       "    }\n",
       "\n",
       "    .dataframe tbody tr th {\n",
       "        vertical-align: top;\n",
       "    }\n",
       "\n",
       "    .dataframe thead th {\n",
       "        text-align: right;\n",
       "    }\n",
       "</style>\n",
       "<table border=\"1\" class=\"dataframe\">\n",
       "  <thead>\n",
       "    <tr style=\"text-align: right;\">\n",
       "      <th></th>\n",
       "      <th>Unnamed: 0</th>\n",
       "      <th>NrSiblings</th>\n",
       "      <th>MathScore</th>\n",
       "      <th>ReadingScore</th>\n",
       "      <th>WritingScore</th>\n",
       "    </tr>\n",
       "  </thead>\n",
       "  <tbody>\n",
       "    <tr>\n",
       "      <th>count</th>\n",
       "      <td>30641.000000</td>\n",
       "      <td>29069.000000</td>\n",
       "      <td>30641.000000</td>\n",
       "      <td>30641.000000</td>\n",
       "      <td>30641.000000</td>\n",
       "    </tr>\n",
       "    <tr>\n",
       "      <th>mean</th>\n",
       "      <td>499.556607</td>\n",
       "      <td>2.145894</td>\n",
       "      <td>66.558402</td>\n",
       "      <td>69.377533</td>\n",
       "      <td>68.418622</td>\n",
       "    </tr>\n",
       "    <tr>\n",
       "      <th>std</th>\n",
       "      <td>288.747894</td>\n",
       "      <td>1.458242</td>\n",
       "      <td>15.361616</td>\n",
       "      <td>14.758952</td>\n",
       "      <td>15.443525</td>\n",
       "    </tr>\n",
       "    <tr>\n",
       "      <th>min</th>\n",
       "      <td>0.000000</td>\n",
       "      <td>0.000000</td>\n",
       "      <td>0.000000</td>\n",
       "      <td>10.000000</td>\n",
       "      <td>4.000000</td>\n",
       "    </tr>\n",
       "    <tr>\n",
       "      <th>25%</th>\n",
       "      <td>249.000000</td>\n",
       "      <td>1.000000</td>\n",
       "      <td>56.000000</td>\n",
       "      <td>59.000000</td>\n",
       "      <td>58.000000</td>\n",
       "    </tr>\n",
       "    <tr>\n",
       "      <th>50%</th>\n",
       "      <td>500.000000</td>\n",
       "      <td>2.000000</td>\n",
       "      <td>67.000000</td>\n",
       "      <td>70.000000</td>\n",
       "      <td>69.000000</td>\n",
       "    </tr>\n",
       "    <tr>\n",
       "      <th>75%</th>\n",
       "      <td>750.000000</td>\n",
       "      <td>3.000000</td>\n",
       "      <td>78.000000</td>\n",
       "      <td>80.000000</td>\n",
       "      <td>79.000000</td>\n",
       "    </tr>\n",
       "    <tr>\n",
       "      <th>max</th>\n",
       "      <td>999.000000</td>\n",
       "      <td>7.000000</td>\n",
       "      <td>100.000000</td>\n",
       "      <td>100.000000</td>\n",
       "      <td>100.000000</td>\n",
       "    </tr>\n",
       "  </tbody>\n",
       "</table>\n",
       "</div>"
      ],
      "text/plain": [
       "         Unnamed: 0    NrSiblings     MathScore  ReadingScore  WritingScore\n",
       "count  30641.000000  29069.000000  30641.000000  30641.000000  30641.000000\n",
       "mean     499.556607      2.145894     66.558402     69.377533     68.418622\n",
       "std      288.747894      1.458242     15.361616     14.758952     15.443525\n",
       "min        0.000000      0.000000      0.000000     10.000000      4.000000\n",
       "25%      249.000000      1.000000     56.000000     59.000000     58.000000\n",
       "50%      500.000000      2.000000     67.000000     70.000000     69.000000\n",
       "75%      750.000000      3.000000     78.000000     80.000000     79.000000\n",
       "max      999.000000      7.000000    100.000000    100.000000    100.000000"
      ]
     },
     "execution_count": 4,
     "metadata": {},
     "output_type": "execute_result"
    }
   ],
   "source": [
    "df.describe()"
   ]
  },
  {
   "cell_type": "code",
   "execution_count": 5,
   "id": "d38cdcba-ac2a-402a-87f2-fdf3611a819a",
   "metadata": {},
   "outputs": [
    {
     "name": "stdout",
     "output_type": "stream",
     "text": [
      "<class 'pandas.core.frame.DataFrame'>\n",
      "RangeIndex: 30641 entries, 0 to 30640\n",
      "Data columns (total 15 columns):\n",
      " #   Column               Non-Null Count  Dtype  \n",
      "---  ------               --------------  -----  \n",
      " 0   Unnamed: 0           30641 non-null  int64  \n",
      " 1   Gender               30641 non-null  object \n",
      " 2   EthnicGroup          28801 non-null  object \n",
      " 3   ParentEduc           28796 non-null  object \n",
      " 4   LunchType            30641 non-null  object \n",
      " 5   TestPrep             28811 non-null  object \n",
      " 6   ParentMaritalStatus  29451 non-null  object \n",
      " 7   PracticeSport        30010 non-null  object \n",
      " 8   IsFirstChild         29737 non-null  object \n",
      " 9   NrSiblings           29069 non-null  float64\n",
      " 10  TransportMeans       27507 non-null  object \n",
      " 11  WklyStudyHours       29686 non-null  object \n",
      " 12  MathScore            30641 non-null  int64  \n",
      " 13  ReadingScore         30641 non-null  int64  \n",
      " 14  WritingScore         30641 non-null  int64  \n",
      "dtypes: float64(1), int64(4), object(10)\n",
      "memory usage: 3.5+ MB\n"
     ]
    }
   ],
   "source": [
    "df.info()"
   ]
  },
  {
   "cell_type": "code",
   "execution_count": 6,
   "id": "6e94d6a7-e453-4c57-b562-5599843fff8f",
   "metadata": {},
   "outputs": [
    {
     "data": {
      "text/plain": [
       "Unnamed: 0                0\n",
       "Gender                    0\n",
       "EthnicGroup            1840\n",
       "ParentEduc             1845\n",
       "LunchType                 0\n",
       "TestPrep               1830\n",
       "ParentMaritalStatus    1190\n",
       "PracticeSport           631\n",
       "IsFirstChild            904\n",
       "NrSiblings             1572\n",
       "TransportMeans         3134\n",
       "WklyStudyHours          955\n",
       "MathScore                 0\n",
       "ReadingScore              0\n",
       "WritingScore              0\n",
       "dtype: int64"
      ]
     },
     "execution_count": 6,
     "metadata": {},
     "output_type": "execute_result"
    }
   ],
   "source": [
    "df.isnull().sum()"
   ]
  },
  {
   "cell_type": "code",
   "execution_count": null,
   "id": "03299169-a4de-4bad-a206-7fc4289a377e",
   "metadata": {},
   "outputs": [],
   "source": [
    "#Drop Unnamed column\n"
   ]
  },
  {
   "cell_type": "code",
   "execution_count": 15,
   "id": "a9c1c92e-7718-4dcc-aab9-176e2d346837",
   "metadata": {},
   "outputs": [
    {
     "name": "stdout",
     "output_type": "stream",
     "text": [
      "   Gender EthnicGroup          ParentEduc     LunchType TestPrep  \\\n",
      "0  female         NaN   bachelor's degree      standard     none   \n",
      "1  female     group C        some college      standard      NaN   \n",
      "2  female     group B     master's degree      standard     none   \n",
      "3    male     group A  associate's degree  free/reduced     none   \n",
      "4    male     group C        some college      standard     none   \n",
      "\n",
      "  ParentMaritalStatus PracticeSport IsFirstChild  NrSiblings TransportMeans  \\\n",
      "0             married     regularly          yes         3.0     school_bus   \n",
      "1             married     sometimes          yes         0.0            NaN   \n",
      "2              single     sometimes          yes         4.0     school_bus   \n",
      "3             married         never           no         1.0            NaN   \n",
      "4             married     sometimes          yes         0.0     school_bus   \n",
      "\n",
      "  WklyStudyHours  MathScore  ReadingScore  WritingScore  \n",
      "0            < 5         71            71            74  \n",
      "1         10-May         69            90            88  \n",
      "2            < 5         87            93            91  \n",
      "3         10-May         45            56            42  \n",
      "4         10-May         76            78            75  \n"
     ]
    }
   ],
   "source": [
    "df = df.drop(\"Unnamed: 0\", axis = 1)\n",
    "print(df.head())"
   ]
  },
  {
   "cell_type": "code",
   "execution_count": 16,
   "id": "05d84862-421b-4f31-b57d-b4997c0897db",
   "metadata": {},
   "outputs": [],
   "source": [
    "#Change Weekly Study Hours Column\n"
   ]
  },
  {
   "cell_type": "code",
   "execution_count": 17,
   "id": "8a05a075-a613-46ad-b602-3e86bc5c51c9",
   "metadata": {},
   "outputs": [
    {
     "data": {
      "text/html": [
       "<div>\n",
       "<style scoped>\n",
       "    .dataframe tbody tr th:only-of-type {\n",
       "        vertical-align: middle;\n",
       "    }\n",
       "\n",
       "    .dataframe tbody tr th {\n",
       "        vertical-align: top;\n",
       "    }\n",
       "\n",
       "    .dataframe thead th {\n",
       "        text-align: right;\n",
       "    }\n",
       "</style>\n",
       "<table border=\"1\" class=\"dataframe\">\n",
       "  <thead>\n",
       "    <tr style=\"text-align: right;\">\n",
       "      <th></th>\n",
       "      <th>Gender</th>\n",
       "      <th>EthnicGroup</th>\n",
       "      <th>ParentEduc</th>\n",
       "      <th>LunchType</th>\n",
       "      <th>TestPrep</th>\n",
       "      <th>ParentMaritalStatus</th>\n",
       "      <th>PracticeSport</th>\n",
       "      <th>IsFirstChild</th>\n",
       "      <th>NrSiblings</th>\n",
       "      <th>TransportMeans</th>\n",
       "      <th>WklyStudyHours</th>\n",
       "      <th>MathScore</th>\n",
       "      <th>ReadingScore</th>\n",
       "      <th>WritingScore</th>\n",
       "    </tr>\n",
       "  </thead>\n",
       "  <tbody>\n",
       "    <tr>\n",
       "      <th>0</th>\n",
       "      <td>female</td>\n",
       "      <td>NaN</td>\n",
       "      <td>bachelor's degree</td>\n",
       "      <td>standard</td>\n",
       "      <td>none</td>\n",
       "      <td>married</td>\n",
       "      <td>regularly</td>\n",
       "      <td>yes</td>\n",
       "      <td>3.0</td>\n",
       "      <td>school_bus</td>\n",
       "      <td>&lt; 5</td>\n",
       "      <td>71</td>\n",
       "      <td>71</td>\n",
       "      <td>74</td>\n",
       "    </tr>\n",
       "    <tr>\n",
       "      <th>1</th>\n",
       "      <td>female</td>\n",
       "      <td>group C</td>\n",
       "      <td>some college</td>\n",
       "      <td>standard</td>\n",
       "      <td>NaN</td>\n",
       "      <td>married</td>\n",
       "      <td>sometimes</td>\n",
       "      <td>yes</td>\n",
       "      <td>0.0</td>\n",
       "      <td>NaN</td>\n",
       "      <td>10-May</td>\n",
       "      <td>69</td>\n",
       "      <td>90</td>\n",
       "      <td>88</td>\n",
       "    </tr>\n",
       "    <tr>\n",
       "      <th>2</th>\n",
       "      <td>female</td>\n",
       "      <td>group B</td>\n",
       "      <td>master's degree</td>\n",
       "      <td>standard</td>\n",
       "      <td>none</td>\n",
       "      <td>single</td>\n",
       "      <td>sometimes</td>\n",
       "      <td>yes</td>\n",
       "      <td>4.0</td>\n",
       "      <td>school_bus</td>\n",
       "      <td>&lt; 5</td>\n",
       "      <td>87</td>\n",
       "      <td>93</td>\n",
       "      <td>91</td>\n",
       "    </tr>\n",
       "    <tr>\n",
       "      <th>3</th>\n",
       "      <td>male</td>\n",
       "      <td>group A</td>\n",
       "      <td>associate's degree</td>\n",
       "      <td>free/reduced</td>\n",
       "      <td>none</td>\n",
       "      <td>married</td>\n",
       "      <td>never</td>\n",
       "      <td>no</td>\n",
       "      <td>1.0</td>\n",
       "      <td>NaN</td>\n",
       "      <td>10-May</td>\n",
       "      <td>45</td>\n",
       "      <td>56</td>\n",
       "      <td>42</td>\n",
       "    </tr>\n",
       "    <tr>\n",
       "      <th>4</th>\n",
       "      <td>male</td>\n",
       "      <td>group C</td>\n",
       "      <td>some college</td>\n",
       "      <td>standard</td>\n",
       "      <td>none</td>\n",
       "      <td>married</td>\n",
       "      <td>sometimes</td>\n",
       "      <td>yes</td>\n",
       "      <td>0.0</td>\n",
       "      <td>school_bus</td>\n",
       "      <td>10-May</td>\n",
       "      <td>76</td>\n",
       "      <td>78</td>\n",
       "      <td>75</td>\n",
       "    </tr>\n",
       "  </tbody>\n",
       "</table>\n",
       "</div>"
      ],
      "text/plain": [
       "   Gender EthnicGroup          ParentEduc     LunchType TestPrep  \\\n",
       "0  female         NaN   bachelor's degree      standard     none   \n",
       "1  female     group C        some college      standard      NaN   \n",
       "2  female     group B     master's degree      standard     none   \n",
       "3    male     group A  associate's degree  free/reduced     none   \n",
       "4    male     group C        some college      standard     none   \n",
       "\n",
       "  ParentMaritalStatus PracticeSport IsFirstChild  NrSiblings TransportMeans  \\\n",
       "0             married     regularly          yes         3.0     school_bus   \n",
       "1             married     sometimes          yes         0.0            NaN   \n",
       "2              single     sometimes          yes         4.0     school_bus   \n",
       "3             married         never           no         1.0            NaN   \n",
       "4             married     sometimes          yes         0.0     school_bus   \n",
       "\n",
       "  WklyStudyHours  MathScore  ReadingScore  WritingScore  \n",
       "0            < 5         71            71            74  \n",
       "1         10-May         69            90            88  \n",
       "2            < 5         87            93            91  \n",
       "3         10-May         45            56            42  \n",
       "4         10-May         76            78            75  "
      ]
     },
     "execution_count": 17,
     "metadata": {},
     "output_type": "execute_result"
    }
   ],
   "source": [
    "df[\"WklyStudyHours\"] = df[\"WklyStudyHours\"].str.replace(\"05-Oct\",\"5-10\")\n",
    "df.head()"
   ]
  },
  {
   "cell_type": "code",
   "execution_count": null,
   "id": "f5872fed-76f4-4d2d-8c33-07b7cb7b45e9",
   "metadata": {},
   "outputs": [],
   "source": [
    "#Gender Distribution\n"
   ]
  },
  {
   "cell_type": "code",
   "execution_count": 38,
   "id": "1dd1593e-96b3-4590-a71d-07afe6fae907",
   "metadata": {},
   "outputs": [
    {
     "data": {
      "image/png": "[encoded data removed]",
      "text/plain": [
       "<Figure size 500x500 with 1 Axes>"
      ]
     },
     "metadata": {},
     "output_type": "display_data"
    }
   ],
   "source": [
    "plt.figure(figsize=(5,5))\n",
    "ax=sns.countplot(data = df, x = \"Gender\")\n",
    "ax.bar_label(ax.containers[0])\n",
    "plt.title(\"Gender Distribution\")\n",
    "plt.show()"
   ]
  },
  {
   "cell_type": "code",
   "execution_count": null,
   "id": "a15babc4-e95b-467e-8449-28d06b37d25b",
   "metadata": {},
   "outputs": [],
   "source": [
    "#from the above chart we have analyzed that:\n",
    "#the number of females in the data is more than the number of males"
   ]
  },
  {
   "cell_type": "code",
   "execution_count": 27,
   "id": "97f0c79d-f745-4a15-bef3-72ae132f25c0",
   "metadata": {},
   "outputs": [
    {
     "name": "stdout",
     "output_type": "stream",
     "text": [
      "                    MathScore  ReadingScore  WritingScore\n",
      "ParentEduc                                               \n",
      "associate's degree  68.365586     71.124324     70.299099\n",
      "bachelor's degree   70.466627     73.062020     73.331069\n",
      "high school         64.435731     67.213997     65.421136\n",
      "master's degree     72.336134     75.832921     76.356896\n",
      "some college        66.390472     69.179708     68.501432\n",
      "some high school    62.584013     65.510785     63.632409\n"
     ]
    }
   ],
   "source": [
    "gb = df.groupby(\"ParentEduc\").agg({\"MathScore\":'mean',\"ReadingScore\":'mean',\"WritingScore\":'mean'})\n",
    "print(gb)"
   ]
  },
  {
   "cell_type": "code",
   "execution_count": 39,
   "id": "ee04586f-ca72-4b7b-ab86-9aa2adf48e4f",
   "metadata": {},
   "outputs": [
    {
     "data": {
      "image/png": "[encoded data removed]",
      "text/plain": [
       "<Figure size 400x400 with 2 Axes>"
      ]
     },
     "metadata": {},
     "output_type": "display_data"
    }
   ],
   "source": [
    "plt.figure(figsize=(4,4))\n",
    "sns.heatmap(gb, annot=True)\n",
    "plt.title(\"Relationship between Parent's Education and Student's Score\") \n",
    "plt.show()"
   ]
  },
  {
   "cell_type": "code",
   "execution_count": null,
   "id": "e1af10aa-137e-47f9-a0f8-5bd0e1967f5e",
   "metadata": {},
   "outputs": [],
   "source": [
    "#from the above chart we have conclude that the education of the parents have a good impacts on the score. "
   ]
  },
  {
   "cell_type": "code",
   "execution_count": 35,
   "id": "d97f03d6-64b7-4d7a-a6b2-dbc6bb01f3b3",
   "metadata": {},
   "outputs": [
    {
     "name": "stdout",
     "output_type": "stream",
     "text": [
      "                     MathScore  ReadingScore  WritingScore\n",
      "ParentMaritalStatus                                       \n",
      "divorced             66.691197     69.655011     68.799146\n",
      "married              66.657326     69.389575     68.420981\n",
      "single               66.165704     69.157250     68.174440\n",
      "widowed              67.368866     69.651438     68.563452\n"
     ]
    }
   ],
   "source": [
    "gb1 = df.groupby(\"ParentMaritalStatus\").agg({\"MathScore\":'mean',\"ReadingScore\":'mean',\"WritingScore\":'mean'})\n",
    "print(gb1)"
   ]
  },
  {
   "cell_type": "code",
   "execution_count": 40,
   "id": "e6482e8e-97ba-4f76-8ab4-a05334571615",
   "metadata": {},
   "outputs": [
    {
     "data": {
      "image/png": "[encoded data removed]",
      "text/plain": [
       "<Figure size 400x400 with 2 Axes>"
      ]
     },
     "metadata": {},
     "output_type": "display_data"
    }
   ],
   "source": [
    "plt.figure(figsize=(4,4))\n",
    "sns.heatmap(gb1, annot=True)\n",
    "plt.title(\"Relationship between Parent's Marital Status and Student's Score\") \n",
    "plt.show()"
   ]
  },
  {
   "cell_type": "code",
   "execution_count": null,
   "id": "a45e6411-134f-447b-9a86-4a556859a658",
   "metadata": {},
   "outputs": [],
   "source": [
    "#from the above chart we have concluded that there is no/negligible impact on the student score \n",
    "#due to their parentmaritalstatus.\n"
   ]
  },
  {
   "cell_type": "code",
   "execution_count": 41,
   "id": "df3c24df-df1f-401a-809e-4cb57c50c616",
   "metadata": {},
   "outputs": [
    {
     "data": {
      "image/png": "[encoded data removed]",
      "text/plain": [
       "<Figure size 640x480 with 1 Axes>"
      ]
     },
     "metadata": {},
     "output_type": "display_data"
    }
   ],
   "source": [
    "sns.boxplot(data=df, x=\"MathScore\")\n",
    "plt.show()"
   ]
  },
  {
   "cell_type": "code",
   "execution_count": 42,
   "id": "c709eb3f-35f0-42d5-9ed5-d60b5f02dad1",
   "metadata": {},
   "outputs": [
    {
     "data": {
      "image/png": "[encoded data removed]",
      "text/plain": [
       "<Figure size 640x480 with 1 Axes>"
      ]
     },
     "metadata": {},
     "output_type": "display_data"
    }
   ],
   "source": [
    "sns.boxplot(data=df, x=\"ReadingScore\")\n",
    "plt.show()"
   ]
  },
  {
   "cell_type": "code",
   "execution_count": 43,
   "id": "80e8ceae-80f2-4eda-9651-a888e1613d4e",
   "metadata": {},
   "outputs": [
    {
     "data": {
      "image/png": "[encoded data removed]",
      "text/plain": [
       "<Figure size 640x480 with 1 Axes>"
      ]
     },
     "metadata": {},
     "output_type": "display_data"
    }
   ],
   "source": [
    "sns.boxplot(data=df, x=\"WritingScore\")\n",
    "plt.show()"
   ]
  },
  {
   "cell_type": "code",
   "execution_count": 44,
   "id": "28837e09-a1a5-48e9-a136-81839974b077",
   "metadata": {},
   "outputs": [
    {
     "name": "stdout",
     "output_type": "stream",
     "text": [
      "[nan 'group C' 'group B' 'group A' 'group D' 'group E']\n"
     ]
    }
   ],
   "source": [
    "print(df[\"EthnicGroup\"].unique())\n"
   ]
  },
  {
   "cell_type": "markdown",
   "id": "78880c51-a5eb-4f99-9cc3-141f8ddcbc9a",
   "metadata": {},
   "source": [
    " Distribution of Ethnic Groups\n",
    " "
   ]
  },
  {
   "cell_type": "code",
   "execution_count": 48,
   "id": "6f07c27d-95f5-47af-be02-4e2979e2baee",
   "metadata": {},
   "outputs": [
    {
     "name": "stdout",
     "output_type": "stream",
     "text": [
      "Gender                 2219\n",
      "EthnicGroup            2219\n",
      "ParentEduc             2078\n",
      "LunchType              2219\n",
      "TestPrep               2081\n",
      "ParentMaritalStatus    2121\n",
      "PracticeSport          2167\n",
      "IsFirstChild           2168\n",
      "NrSiblings             2096\n",
      "TransportMeans         1999\n",
      "WklyStudyHours         2146\n",
      "MathScore              2219\n",
      "ReadingScore           2219\n",
      "WritingScore           2219\n",
      "dtype: int64\n"
     ]
    }
   ],
   "source": [
    "groupA = df.loc[(df['EthnicGroup'] == \"group A\")].count()\n",
    "  \n",
    "\n",
    "\n",
    "\n",
    "print(groupA)"
   ]
  },
  {
   "cell_type": "code",
   "execution_count": 56,
   "id": "6bfafab3-371b-48e4-aab2-edf4dba37b77",
   "metadata": {},
   "outputs": [
    {
     "name": "stdout",
     "output_type": "stream",
     "text": [
      "[np.int64(2219), np.int64(5826), np.int64(9212), np.int64(7503), np.int64(4041)]\n"
     ]
    },
    {
     "data": {
      "image/png": "[encoded data removed]",
      "text/plain": [
       "<Figure size 640x480 with 1 Axes>"
      ]
     },
     "metadata": {},
     "output_type": "display_data"
    },
    {
     "name": "stdout",
     "output_type": "stream",
     "text": [
      "Gender                 2219\n",
      "EthnicGroup            2219\n",
      "ParentEduc             2078\n",
      "LunchType              2219\n",
      "TestPrep               2081\n",
      "ParentMaritalStatus    2121\n",
      "PracticeSport          2167\n",
      "IsFirstChild           2168\n",
      "NrSiblings             2096\n",
      "TransportMeans         1999\n",
      "WklyStudyHours         2146\n",
      "MathScore              2219\n",
      "ReadingScore           2219\n",
      "WritingScore           2219\n",
      "dtype: int64\n"
     ]
    }
   ],
   "source": [
    "groupA = df.loc[(df['EthnicGroup'] == \"group A\")].count()\n",
    "groupB = df.loc[(df['EthnicGroup'] == \"group B\")].count()\n",
    "groupC = df.loc[(df['EthnicGroup'] == \"group C\")].count()\n",
    "groupD = df.loc[(df['EthnicGroup'] == \"group D\")].count()\n",
    "groupE = df.loc[(df['EthnicGroup'] == \"group E\")].count()\n",
    "#print(groupA['EthnicGroup'])\n",
    "\n",
    "l = [\"group A\",\"group B\",\"group C\",\"group D\",\"group E\"]\n",
    "mlist = [groupA['EthnicGroup'],groupB['EthnicGroup'],groupC['EthnicGroup'],groupD['EthnicGroup'],groupE['EthnicGroup']]\n",
    "print(mlist)\n",
    "\n",
    "plt.pie(mlist,labels=l,autopct=\"%1.2f%%\")\n",
    "plt.title(\"Distribution Of Ethnic Groups\")\n",
    "plt.show()\n",
    "\n",
    "print(groupA)"
   ]
  },
  {
   "cell_type": "code",
   "execution_count": 55,
   "id": "fc43f8af-326b-4958-a57c-600f0dbcb9a1",
   "metadata": {},
   "outputs": [
    {
     "data": {
      "text/plain": [
       "[Text(0, 0, '9212'),\n",
       " Text(0, 0, '5826'),\n",
       " Text(0, 0, '2219'),\n",
       " Text(0, 0, '7503'),\n",
       " Text(0, 0, '4041')]"
      ]
     },
     "execution_count": 55,
     "metadata": {},
     "output_type": "execute_result"
    },
    {
     "data": {
      "image/png": "[encoded data removed]",
      "text/plain": [
       "<Figure size 640x480 with 1 Axes>"
      ]
     },
     "metadata": {},
     "output_type": "display_data"
    }
   ],
   "source": [
    "ax=sns.countplot(data=df, x= \"EthnicGroup\")\n",
    "ax.bar_label(ax.containers[0])\n"
   ]
  },
  {
   "cell_type": "code",
   "execution_count": null,
   "id": "ec2e9f9a-e7d0-471d-baac-d3d0b8af0256",
   "metadata": {},
   "outputs": [],
   "source": []
  }
 ],
 "metadata": {
  "kernelspec": {
   "display_name": "Python 3 (ipykernel)",
   "language": "python",
   "name": "python3"
  },
  "language_info": {
   "codemirror_mode": {
    "name": "ipython",
    "version": 3
   },
   "file_extension": ".py",
   "mimetype": "text/x-python",
   "name": "python",
   "nbconvert_exporter": "python",
   "pygments_lexer": "ipython3",
   "version": "3.13.3"
  }
 },
 "nbformat": 4,
 "nbformat_minor": 5
}
